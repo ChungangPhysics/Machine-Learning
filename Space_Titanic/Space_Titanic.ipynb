{
 "cells": [
  {
   "cell_type": "markdown",
   "id": "8430916f-2ce7-4ad1-9391-963302bf03d5",
   "metadata": {},
   "source": [
    "# Space Titanic 데이터 분석 및 모델링\n",
    "\n",
    "## 데이터 전처리 및 모델 학습\n",
    "\n",
    "이 문서에서는 주어진 CSV 파일을 사용하여 데이터 전처리, 랜덤 포레스트 모델 훈련, 예측, 결과 저장 및 시각화를 수행합니다.\n",
    "\n",
    "### 1. 라이브러리 불러오기\n",
    "\n",
    "먼저 필요한 라이브러리를 불러옵니다."
   ]
  },
  {
   "cell_type": "code",
   "execution_count": null,
   "id": "eabc8b4a-f03c-44f9-9b49-cd3cf7d2f5d6",
   "metadata": {},
   "outputs": [],
   "source": [
    "import pandas as pd\n",
    "\n",
    "# 데이터 파일 경로 설정\n",
    "train_file_path = 'train.csv'\n",
    "test_file_path = 'test.csv'\n",
    "\n",
    "# 데이터 로드: CSV 파일을 데이터프레임으로 읽어옵니다.\n",
    "train_df = pd.read_csv(train_file_path)\n",
    "test_df = pd.read_csv(test_file_path)\n",
    "\n",
    "# 데이터의 기본 정보 확인: 컬럼명, 데이터 타입, 결측치 등 기본 정보를 출력합니다.\n",
    "train_df.info()\n",
    "\n",
    "# 데이터의 처음 몇 행을 출력하여 데이터의 구조를 확인합니다.\n",
    "train_df.head()\n"
   ]
  },
  {
   "cell_type": "code",
   "execution_count": null,
   "id": "c10585d8-4243-4854-99bd-f3cb2b634dac",
   "metadata": {},
   "outputs": [],
   "source": [
    "import matplotlib.pyplot as plt\n",
    "import seaborn as sns\n",
    "\n",
    "# 상관 행렬 계산 및 히트맵 시각화\n",
    "# 데이터 프레임의 상관 행렬을 계산합니다.\n",
    "correlation_matrix = train_df.corr(numeric_only=True)\n",
    "\n",
    "# 상관 행렬을 히트맵으로 시각화하여 각 변수 간의 상관 관계를 확인합니다.\n",
    "plt.figure(figsize=(12, 8))\n",
    "sns.heatmap(correlation_matrix, annot=True, cmap='coolwarm', vmin=-1, vmax=1)\n",
    "plt.title('Correlation Matrix')\n",
    "plt.show()\n",
    "\n",
    "plt.figure(figsize=(12, 8))  # 그래프 크기 설정\n",
    "correlation_matrix = train_df.corr(numeric_only=True)  # 상관 행렬 계산\n",
    "\n",
    "# 상관 관계를 내림차순으로 정렬\n",
    "correlation_sorted = correlation_matrix[['Transported']].sort_values(by='Transported', ascending=False)\n",
    "\n",
    "sns.heatmap(correlation_sorted, annot=True, cmap='coolwarm', vmin=-1, vmax=1)  # 히트맵 시각화\n",
    "plt.title('Correlation of Features with Transported')  # 그래프 제목\n",
    "plt.show()  # 그래프 출력\n"
   ]
  },
  {
   "cell_type": "code",
   "execution_count": null,
   "id": "86b52f34-9de5-4451-abf9-fe11b35de4ee",
   "metadata": {},
   "outputs": [],
   "source": [
    "from sklearn.preprocessing import LabelEncoder, MinMaxScaler\n",
    "from sklearn.ensemble import RandomForestClassifier\n",
    "from sklearn.model_selection import GridSearchCV"
   ]
  },
  {
   "cell_type": "markdown",
   "id": "4853d96a-4b87-4e4c-91c4-dc9ca5c757ca",
   "metadata": {},
   "source": [
    "### 2. 데이터 읽기 및 전처리 (Train 데이터)"
   ]
  },
  {
   "cell_type": "markdown",
   "id": "2666ed6d-b9dd-4983-a07d-f1e367644b36",
   "metadata": {},
   "source": [
    "2.1 CSV 파일을 읽어 데이터프레임 생성"
   ]
  },
  {
   "cell_type": "code",
   "execution_count": null,
   "id": "89ed2e06-f5ee-4e19-a954-1459619c2b32",
   "metadata": {},
   "outputs": [],
   "source": [
    "# 결측치 확인: 각 열에 대해 결측치가 있는지 확인합니다.\n",
    "print(\"Train dataset missing values:\")\n",
    "print(train_df.isnull().sum())\n",
    "\n",
    "print(\"\\nTest dataset missing values:\")\n",
    "print(test_df.isnull().sum())\n",
    "\n"
   ]
  },
  {
   "cell_type": "markdown",
   "id": "6c2626df-80d3-4cfc-8388-ab7b3c8c7334",
   "metadata": {},
   "source": [
    "2.2 결측값 처리\n",
    "결측값을 각 변수에 맞는 적절한 값으로 대체합니다.\n",
    "\n",
    "각 정수형 값들에 대해선 평균으로,  \n",
    "각 문자열에 대해선 Unkown 으로 표현합니다."
   ]
  },
  {
   "cell_type": "code",
   "execution_count": null,
   "id": "d57b3e6c-3256-496e-a500-6ebf3a251334",
   "metadata": {},
   "outputs": [],
   "source": [
    "train_df['Age'] = train_df['Age'].fillna(train_df['Age'].mean())\n",
    "train_df['RoomService'] = train_df['RoomService'].fillna(train_df['RoomService'].mean())\n",
    "train_df['FoodCourt'] = train_df['FoodCourt'].fillna(train_df['FoodCourt'].mean())\n",
    "train_df['ShoppingMall'] = train_df['ShoppingMall'].fillna(train_df['ShoppingMall'].mean())\n",
    "train_df['Spa'] = train_df['Spa'].fillna(train_df['Spa'].mean())\n",
    "train_df['VRDeck'] = train_df['VRDeck'].fillna(train_df['VRDeck'].mean())\n",
    "\n",
    "train_df['HomePlanet'] = train_df['HomePlanet'].fillna('Unknown')\n",
    "train_df['Cabin'] = train_df['Cabin'].fillna('Unknown')\n",
    "train_df['Destination'] = train_df['Destination'].fillna('Unknown')\n",
    "\n",
    "# 결측치를 False로 처리합니다.\n",
    "train_df['CryoSleep'] = train_df['CryoSleep'].fillna(False)\n",
    "train_df['VIP'] = train_df['VIP'].fillna(False)"
   ]
  },
  {
   "cell_type": "markdown",
   "id": "8187d39c-4cff-456e-b8f2-3101f9f51e1e",
   "metadata": {},
   "source": [
    "True 보단 False로 결측치를 처리했을 경우, 좋은 score가 나왔습니다."
   ]
  },
  {
   "cell_type": "markdown",
   "id": "145d9908-f7bf-4a27-be95-3d372a5a01cf",
   "metadata": {},
   "source": [
    "2.3 데이터 타입 변환"
   ]
  },
  {
   "cell_type": "code",
   "execution_count": null,
   "id": "423c2e75-1995-4aaa-979e-aee3688fedda",
   "metadata": {},
   "outputs": [],
   "source": [
    "train_df['CryoSleep'] = train_df['CryoSleep'].astype(bool)\n",
    "train_df['VIP'] = train_df['VIP'].astype(bool)"
   ]
  },
  {
   "cell_type": "markdown",
   "id": "d854d312-5d08-4fd2-af08-92cc15c24212",
   "metadata": {},
   "source": [
    "2.4 필요 없는 열 제거"
   ]
  },
  {
   "cell_type": "code",
   "execution_count": null,
   "id": "7f0cc58f-950d-4b31-8acb-d2b096fd3d3c",
   "metadata": {},
   "outputs": [],
   "source": [
    "train_df.drop(columns=['Name', 'PassengerId'], inplace=True, errors='ignore')  # 분석에 필요 없는 열 제거"
   ]
  },
  {
   "cell_type": "markdown",
   "id": "55cff009-d262-437f-9606-6f8a7de7fa9e",
   "metadata": {},
   "source": [
    "2.5 범주형 데이터 인코딩"
   ]
  },
  {
   "cell_type": "code",
   "execution_count": null,
   "id": "7ee4bea8-7644-4388-be90-5a412eaafe0b",
   "metadata": {},
   "outputs": [],
   "source": [
    "label_encoder = LabelEncoder()\n",
    "train_df['HomePlanet'] = label_encoder.fit_transform(train_df['HomePlanet'])\n",
    "train_df['Cabin'] = label_encoder.fit_transform(train_df['Cabin'])\n",
    "train_df['Destination'] = label_encoder.fit_transform(train_df['Destination'])\n"
   ]
  },
  {
   "cell_type": "markdown",
   "id": "def5c3e0-b814-4a44-92a7-fa4c0c922181",
   "metadata": {},
   "source": [
    "2.6 정규화\n"
   ]
  },
  {
   "cell_type": "code",
   "execution_count": null,
   "id": "259551eb-3941-47e2-ac67-090f63277806",
   "metadata": {},
   "outputs": [],
   "source": [
    "scaler = MinMaxScaler()\n",
    "train_df[['Age', 'RoomService', 'FoodCourt', 'ShoppingMall', 'Spa', 'VRDeck']] = scaler.fit_transform(train_df[['Age', 'RoomService', 'FoodCourt', 'ShoppingMall', 'Spa', 'VRDeck']])\n"
   ]
  },
  {
   "cell_type": "markdown",
   "id": "5ae4c025-1b4b-468d-bbc7-50b9ea46e223",
   "metadata": {},
   "source": [
    "2.7 특징과 라벨 분리\n"
   ]
  },
  {
   "cell_type": "code",
   "execution_count": null,
   "id": "3f084169-7d16-436c-b237-b970eaec3fdd",
   "metadata": {},
   "outputs": [],
   "source": [
    "X_train = train_df.drop(columns=['Transported'])\n",
    "y_train = train_df['Transported']\n"
   ]
  },
  {
   "cell_type": "markdown",
   "id": "1a9f0baf-36e2-44f9-8108-d3dd3273694d",
   "metadata": {},
   "source": [
    "### 3. 랜덤 포레스트 모델 훈련"
   ]
  },
  {
   "cell_type": "markdown",
   "id": "8c4d1328-dada-4f93-9e37-5a89c185bded",
   "metadata": {},
   "source": [
    "3.1 hyperparameter 후보 설정\n"
   ]
  },
  {
   "cell_type": "code",
   "execution_count": null,
   "id": "72016da2-cb47-4942-916e-9eb3bd59966c",
   "metadata": {},
   "outputs": [],
   "source": [
    "param_grid = {\n",
    "    'n_estimators': [100, 300, 500, 1000],\n",
    "    'max_depth': [None, 10, 20, 30],\n",
    "    'min_samples_split': [2, 5, 10],\n",
    "    'min_samples_leaf': [1, 2, 4],\n",
    "    'max_features': ['auto', 'sqrt', 'log2']\n",
    "}\n",
    "\n",
    "# GridSearchCV 설정\n",
    "grid_search = GridSearchCV(estimator=RandomForestClassifier(random_state=200),\n",
    "                           param_grid=param_grid,\n",
    "                           cv=5,\n",
    "                           verbose=2)"
   ]
  },
  {
   "cell_type": "code",
   "execution_count": null,
   "id": "da98e98d-ce91-4a87-9a5e-77f9627ead41",
   "metadata": {},
   "outputs": [],
   "source": [
    "grid_search.fit(X_train, y_train)"
   ]
  },
  {
   "cell_type": "code",
   "execution_count": null,
   "id": "9239e14c-89fc-455e-a996-23dbe2efa24c",
   "metadata": {},
   "outputs": [],
   "source": [
    "# 최적의 파라미터 출력\n",
    "best_params = grid_search.best_params_\n",
    "print(\"Best parameters found: \", best_params)\n",
    "# 최적의 파라미터로 모델 설정\n",
    "best_model = grid_search.best_estimator_"
   ]
  },
  {
   "cell_type": "code",
   "execution_count": null,
   "id": "0c5de790-6d64-4a7f-a5e7-7de47d28312d",
   "metadata": {},
   "outputs": [],
   "source": [
    "# 최적의 파라미터로 모델 설정\n",
    "best_model = grid_search.best_estimator_"
   ]
  },
  {
   "cell_type": "markdown",
   "id": "640a988e-8df3-4965-b7f3-8a89904de439",
   "metadata": {},
   "source": [
    "### 4. 테스트 데이터 전처리 함수 정의"
   ]
  },
  {
   "cell_type": "code",
   "execution_count": null,
   "id": "897acb97-4317-496d-a4ee-6b8d08bd35f6",
   "metadata": {},
   "outputs": [],
   "source": [
    "def preprocess_test_data(test_df, label_encoder, scaler):\n",
    "    test_df['Age'] = test_df['Age'].fillna(test_df['Age'].mean())\n",
    "    test_df['RoomService'] = test_df['RoomService'].fillna(test_df['RoomService'].mean())\n",
    "    test_df['FoodCourt'] = test_df['FoodCourt'].fillna(test_df['FoodCourt'].mean())\n",
    "    test_df['ShoppingMall'] = test_df['ShoppingMall'].fillna(test_df['ShoppingMall'].mean())\n",
    "    test_df['Spa'] = test_df['Spa'].fillna(test_df['Spa'].mean())\n",
    "    test_df['VRDeck'] = test_df['VRDeck'].fillna(test_df['VRDeck'].mean())\n",
    "\n",
    "    test_df['HomePlanet'] = test_df['HomePlanet'].fillna('Unknown')\n",
    "    test_df['CryoSleep'] = test_df['CryoSleep'].fillna(False)\n",
    "    test_df['Cabin'] = test_df['Cabin'].fillna('Unknown')\n",
    "    test_df['Destination'] = test_df['Destination'].fillna('Unknown')\n",
    "    test_df['VIP'] = test_df['VIP'].fillna(False)\n",
    "\n",
    "    test_df['CryoSleep'] = test_df['CryoSleep'].astype(bool)\n",
    "    test_df['VIP'] = test_df['VIP'].astype(bool)\n",
    "\n",
    "    test_df.drop(columns=['Name'], inplace=True, errors='ignore')\n",
    "\n",
    "    # train 데이터에 있는 범주형 값만 인코딩\n",
    "    for column in ['HomePlanet', 'Cabin', 'Destination']:\n",
    "        test_df[column] = test_df[column].apply(lambda x: x if x in label_encoder.classes_ else 'Unknown')\n",
    "\n",
    "    test_df['HomePlanet'] = label_encoder.transform(test_df['HomePlanet'])\n",
    "    test_df['Cabin'] = label_encoder.transform(test_df['Cabin'])\n",
    "    test_df['Destination'] = label_encoder.transform(test_df['Destination'])\n",
    "\n",
    "    test_df[['Age', 'RoomService', 'FoodCourt', 'ShoppingMall', 'Spa', 'VRDeck']] = scaler.transform(test_df[['Age', 'RoomService', 'FoodCourt', 'ShoppingMall', 'Spa', 'VRDeck']])\n",
    "\n",
    "    return test_df\n"
   ]
  },
  {
   "cell_type": "markdown",
   "id": "f2a7f2cb-edaf-42cf-ae87-09158a91926e",
   "metadata": {},
   "source": [
    "### 5. 테스트 데이터 전처리 및 예측"
   ]
  },
  {
   "cell_type": "markdown",
   "id": "24107b1e-ef10-4e50-9fe6-2edbdd7b95ca",
   "metadata": {},
   "source": [
    "5.1 CSV 파일을 읽어 데이터프레임 생성 (Test 데이터)\n"
   ]
  },
  {
   "cell_type": "code",
   "execution_count": null,
   "id": "a7e3ae10-1332-4b57-81b7-947547bb1dc6",
   "metadata": {},
   "outputs": [],
   "source": [
    "test_file_path = 'test.csv'  # 테스트 데이터 경로\n",
    "test_df = pd.read_csv(test_file_path)  # 테스트 데이터를 데이터프레임으로 읽어옴\n"
   ]
  },
  {
   "cell_type": "markdown",
   "id": "7111fdf2-a6f9-4b92-960f-19a1a7133c43",
   "metadata": {},
   "source": [
    "5.2 테스트 데이터 전처리\n"
   ]
  },
  {
   "cell_type": "code",
   "execution_count": null,
   "id": "8b8e51cd-ce82-4bcb-aa88-e44e67eeaf22",
   "metadata": {},
   "outputs": [],
   "source": [
    "test_df = preprocess_test_data(test_df, label_encoder, scaler)  # 정의한 전처리 함수 적용"
   ]
  },
  {
   "cell_type": "markdown",
   "id": "bf0c3555-87a7-490e-a509-f2e3febc5186",
   "metadata": {},
   "source": [
    "5.3 특징 추출\n"
   ]
  },
  {
   "cell_type": "code",
   "execution_count": null,
   "id": "5221b439-b679-4cc3-bc33-e129bc5a40a4",
   "metadata": {},
   "outputs": [],
   "source": [
    "X_test = test_df.drop(columns=['Transported', 'PassengerId'], errors='ignore')  # 예측에 사용할 특징 추출\n"
   ]
  },
  {
   "cell_type": "markdown",
   "id": "b8e6ca18-4b75-42cd-adc6-0fcad45e471c",
   "metadata": {},
   "source": [
    "5.4 예측 및 결과 저장\n"
   ]
  },
  {
   "cell_type": "code",
   "execution_count": null,
   "id": "533f5a75-28e3-4599-881b-a0e5a2d8f21f",
   "metadata": {},
   "outputs": [],
   "source": [
    "y_pred = model.predict(X_test)  # 모델을 사용하여 예측 수행\n",
    "\n",
    "output = pd.DataFrame({'PassengerId': test_df['PassengerId'], 'Transported': y_pred})  # 결과 데이터프레임 생성\n",
    "output.to_csv('prediction_results.csv', index=False)  # CSV 파일로 저장\n"
   ]
  },
  {
   "cell_type": "markdown",
   "id": "13601d4b-33a6-4b82-a758-7c48b5b754a6",
   "metadata": {},
   "source": [
    "### 6. 특성 중요도 시각화"
   ]
  },
  {
   "cell_type": "code",
   "execution_count": null,
   "id": "4099422c-4d28-46d4-8521-d59f2691d102",
   "metadata": {},
   "outputs": [],
   "source": [
    "plt.figure(figsize=(12, 8))  # 그래프 크기 설정\n",
    "sns.barplot(x=model.feature_importances_, y=X_train.columns)  # 특성 중요도를 막대 그래프로 시각화\n",
    "plt.title('Feature Importances')  # 그래프 제목\n",
    "plt.xlabel('Importance')  # x축 레이블\n",
    "plt.ylabel('Feature')  # y축 레이블\n",
    "plt.show()  # 그래프 출력\n"
   ]
  }
 ],
 "metadata": {
  "kernelspec": {
   "display_name": "Python 3 (ipykernel)",
   "language": "python",
   "name": "python3"
  },
  "language_info": {
   "codemirror_mode": {
    "name": "ipython",
    "version": 3
   },
   "file_extension": ".py",
   "mimetype": "text/x-python",
   "name": "python",
   "nbconvert_exporter": "python",
   "pygments_lexer": "ipython3",
   "version": "3.12.4"
  }
 },
 "nbformat": 4,
 "nbformat_minor": 5
}
